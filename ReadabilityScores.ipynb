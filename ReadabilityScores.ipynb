{
 "cells": [
  {
   "cell_type": "markdown",
   "metadata": {},
   "source": [
    "# ***The Use Of The Textatistic Package To Obtain Readability Scores As Part Of NLP Analysis*** \n",
    "More Information Can Be Found At https://pypi.org/project/textatistic/"
   ]
  },
  {
   "cell_type": "markdown",
   "metadata": {},
   "source": [
    "#### ***Step 1***: Import The Following Libraries For Future Use"
   ]
  },
  {
   "cell_type": "code",
   "execution_count": 15,
   "metadata": {},
   "outputs": [],
   "source": [
    "import os \n",
    "import tweepy as twp\n",
    "import pandas as pd\n",
    "import json\n",
    "import matplotlib.pyplot as plt \n",
    "from geopy import OpenMapQuest\n",
    "from textblob import TextBlob \n",
    "import re \n",
    "import time \n",
    "import datetime\n",
    "import twitter \n",
    "import seaborn as sns\n",
    "import preprocessor as p\n",
    "import numpy as np \n",
    "import sys\n",
    "import nltk \n",
    "from urllib.parse import unquote\n",
    "import itertools\n",
    "import collections\n",
    "from operator import itemgetter\n",
    "from wordcloud import WordCloud\n",
    "from nltk.corpus import stopwords         \n",
    "import networkx as nx \n",
    "from nltk import bigrams, ngrams, trigrams\n",
    "from pathlib import Path\n",
    "from textatistic import Textatistic\n",
    "from hyphen import Hyphenator"
   ]
  },
  {
   "cell_type": "code",
   "execution_count": 16,
   "metadata": {},
   "outputs": [],
   "source": [
    "import warnings                                \n",
    "warnings.filterwarnings(\"ignore\")   "
   ]
  },
  {
   "cell_type": "markdown",
   "metadata": {},
   "source": [
    "#### ***Step 2***: Import The Appropriate Data File. This Was Done For Each Seperate Workbook\n",
    "#### data_frame = pd.read_csv('file path name', header = 0, sep = ',')\n",
    "#### For The File Path Name Each Of The Individual Files In The Repository Listed Were Given "
   ]
  },
  {
   "cell_type": "markdown",
   "metadata": {},
   "source": [
    "#### ***Step 3***: View The Data Frame. \n",
    "#### data_frame    # It Is To Be Expected That The Time Column Is Converted To NaN values but That Does Not Matter "
   ]
  },
  {
   "cell_type": "markdown",
   "metadata": {},
   "source": [
    "#### ***Step 4***: Convert The Data Frame To A List\n",
    "#### city_list = data_frame['tweets'].tolist()  "
   ]
  },
  {
   "cell_type": "markdown",
   "metadata": {},
   "source": [
    "#### ***Step 5***:Run The Following Source Code To Clean The Tweets "
   ]
  },
  {
   "cell_type": "code",
   "execution_count": 19,
   "metadata": {},
   "outputs": [],
   "source": [
    "def clean_string(fulltweet):\n",
    "    \"\"\"re.sub(pattern, repl, string). \n",
    "    Returns the string obtained by replacing the leftmost \n",
    "    non-overlapping occurrences of pattern in string by the \n",
    "    replacement thus removing any urls \n",
    "    \"\"\"\n",
    "    return \" \".join(re.sub(\"([^0-9A-Za-z \\t])|(\\w+:\\/\\/\\S+)\", \"\", fulltweet).split())"
   ]
  },
  {
   "cell_type": "markdown",
   "metadata": {},
   "source": [
    "#### ***Step 6***:Convert The Tweets To Text Only \n",
    "#### TextOnlyTweet = [clean_string(tweets) for tweets in city_list]#T"
   ]
  },
  {
   "cell_type": "markdown",
   "metadata": {},
   "source": [
    "#### ***Step 7***:Convert The List To A Text File \n",
    "#### a_list = TextOnlyTweet\n",
    "#### new_list = [x for x in a_list if len(x) < 100]"
   ]
  },
  {
   "cell_type": "markdown",
   "metadata": {},
   "source": [
    "#### textfile = open(\"desired_filename.txt\", \"w\")\n",
    "\n"
   ]
  },
  {
   "cell_type": "markdown",
   "metadata": {},
   "source": [
    "#### for element in new_list:\n",
    "####    textfile.write(element + \"\\n\")\n"
   ]
  },
  {
   "cell_type": "markdown",
   "metadata": {},
   "source": [
    "#### textfile.close()"
   ]
  },
  {
   "cell_type": "markdown",
   "metadata": {},
   "source": [
    "### ***From txt.file to textatistic***"
   ]
  },
  {
   "cell_type": "markdown",
   "metadata": {},
   "source": [
    "***Step 8***: Call The Text Using The File Name\n",
    "#### text = Path('desired_filename.txt').read_text()\n",
    "\n"
   ]
  },
  {
   "cell_type": "markdown",
   "metadata": {},
   "source": [
    "***Step 9***:Transform The File To Not Have Any Line Breaks\n",
    "#### a_string = text\n",
    "#### without_line_breaks = a_string.replace(\"\\n\", \".\")\n",
    "\n"
   ]
  },
  {
   "cell_type": "markdown",
   "metadata": {},
   "source": [
    "***Step 10***:Call The Textatistic Readability Package\n",
    "#### readability = Textatistic(without_line_breaks)"
   ]
  },
  {
   "cell_type": "markdown",
   "metadata": {},
   "source": [
    "***Step 11***:\n",
    "#### View The Readability Statistics\n",
    "#### readability.dict()"
   ]
  },
  {
   "cell_type": "markdown",
   "metadata": {},
   "source": [
    "***Final Note***: \n",
    "#### Repeating This Process With Each Of The CSV files Will Produce The Results In The Final Report"
   ]
  },
  {
   "cell_type": "code",
   "execution_count": null,
   "metadata": {},
   "outputs": [],
   "source": []
  },
  {
   "cell_type": "code",
   "execution_count": null,
   "metadata": {},
   "outputs": [],
   "source": []
  },
  {
   "cell_type": "code",
   "execution_count": null,
   "metadata": {},
   "outputs": [],
   "source": []
  },
  {
   "cell_type": "code",
   "execution_count": null,
   "metadata": {},
   "outputs": [],
   "source": []
  },
  {
   "cell_type": "code",
   "execution_count": null,
   "metadata": {},
   "outputs": [],
   "source": []
  },
  {
   "cell_type": "code",
   "execution_count": null,
   "metadata": {},
   "outputs": [],
   "source": []
  },
  {
   "cell_type": "code",
   "execution_count": null,
   "metadata": {},
   "outputs": [],
   "source": []
  },
  {
   "cell_type": "code",
   "execution_count": null,
   "metadata": {},
   "outputs": [],
   "source": []
  },
  {
   "cell_type": "code",
   "execution_count": null,
   "metadata": {},
   "outputs": [],
   "source": []
  },
  {
   "cell_type": "code",
   "execution_count": null,
   "metadata": {},
   "outputs": [],
   "source": []
  },
  {
   "cell_type": "code",
   "execution_count": null,
   "metadata": {},
   "outputs": [],
   "source": []
  }
 ],
 "metadata": {
  "kernelspec": {
   "display_name": "Python 3",
   "language": "python",
   "name": "python3"
  },
  "language_info": {
   "codemirror_mode": {
    "name": "ipython",
    "version": 3
   },
   "file_extension": ".py",
   "mimetype": "text/x-python",
   "name": "python",
   "nbconvert_exporter": "python",
   "pygments_lexer": "ipython3",
   "version": "3.7.6"
  }
 },
 "nbformat": 4,
 "nbformat_minor": 4
}
