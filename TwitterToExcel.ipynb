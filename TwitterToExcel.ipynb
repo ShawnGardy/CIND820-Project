{
 "cells": [
  {
   "cell_type": "markdown",
   "metadata": {},
   "source": [
    "# Scraping The Data From Twitter And Then Exporting To Excel "
   ]
  },
  {
   "cell_type": "markdown",
   "metadata": {},
   "source": [
    "#### Step1:Import The Following Libraries"
   ]
  },
  {
   "cell_type": "code",
   "execution_count": 2,
   "metadata": {},
   "outputs": [],
   "source": [
    "import os \n",
    "import tweepy as twp\n",
    "import pandas as pd\n",
    "import json\n",
    "import matplotlib.pyplot as plt \n",
    "from geopy import OpenMapQuest\n",
    "from textblob import TextBlob \n",
    "import re \n",
    "import time \n",
    "import datetime\n",
    "import twitter \n",
    "import seaborn as sns\n",
    "import preprocessor as p\n",
    "import numpy as np \n",
    "import sys\n",
    "import nltk \n",
    "from urllib.parse import unquote\n",
    "import itertools\n",
    "import collections\n",
    "from operator import itemgetter\n",
    "from wordcloud import WordCloud\n",
    "from nltk.corpus import stopwords         \n",
    "import networkx"
   ]
  },
  {
   "cell_type": "markdown",
   "metadata": {},
   "source": [
    "#### Prepare To Ignore Warnings "
   ]
  },
  {
   "cell_type": "code",
   "execution_count": 4,
   "metadata": {},
   "outputs": [],
   "source": [
    "import warnings                                \n",
    "warnings.filterwarnings(\"ignore\")   "
   ]
  },
  {
   "cell_type": "markdown",
   "metadata": {},
   "source": [
    "#### Apply for the developer keys from twitter at https://developer.twitter.com/en/apply-for-access"
   ]
  },
  {
   "cell_type": "markdown",
   "metadata": {},
   "source": [
    "#### Import the keys as follows, they are starred out for security purposes because each indivual my apply through twitter themeslves for access to developer account. "
   ]
  },
  {
   "cell_type": "code",
   "execution_count": 14,
   "metadata": {},
   "outputs": [],
   "source": [
    "consumer_key='*************************'\n",
    "consumer_secret='**************************************************'\n",
    "access_token='**************************************************'\n",
    "access_token_secret='*********************************************'"
   ]
  },
  {
   "cell_type": "markdown",
   "metadata": {},
   "source": [
    "#### Twitter Has Almost A Dozen APIs To Use For Python. More information can be found at the following website. https://developer.twitter.com/en/docs/twitter-api/tools-and-libraries"
   ]
  },
  {
   "cell_type": "markdown",
   "metadata": {},
   "source": [
    "#### Use The Following Sequence Of Coding To Utilize The Tweepy API. The Documents Can Be Obtained At www.tweepy.org"
   ]
  },
  {
   "cell_type": "code",
   "execution_count": 16,
   "metadata": {},
   "outputs": [],
   "source": [
    "api = twp.API(auth, wait_on_rate_limit=True, wait_on_rate_limit_notify=True)"
   ]
  },
  {
   "cell_type": "markdown",
   "metadata": {},
   "source": [
    "#### In The Coding Below, A Time Lag Is Choosen For The Time Period In Which You Want To Obtain The Tweets"
   ]
  },
  {
   "cell_type": "code",
   "execution_count": 17,
   "metadata": {},
   "outputs": [
    {
     "data": {
      "text/plain": [
       "(datetime.date(2021, 6, 10), datetime.date(2021, 6, 9))"
      ]
     },
     "execution_count": 17,
     "metadata": {},
     "output_type": "execute_result"
    }
   ],
   "source": [
    "today = datetime.date.today()\n",
    "yesterday= today - datetime.timedelta(days=1)\n",
    "today, yesterday"
   ]
  },
  {
   "cell_type": "markdown",
   "metadata": {},
   "source": [
    "#### The Following Formula Was For San Francisco Retweets Were Filtered Out In Order To Obtain Unique Information"
   ]
  },
  {
   "cell_type": "code",
   "execution_count": 18,
   "metadata": {},
   "outputs": [],
   "source": [
    "tweets_list = twp.Cursor(api.search, q=\"san francisco -filter:retweets since:\" + str(yesterday)+ \" until:\" + str(today),tweet_mode='extended', lang='en').items()\n"
   ]
  },
  {
   "cell_type": "markdown",
   "metadata": {},
   "source": [
    "#### The Same \"tweets_list\" Function Was Adjusted And The Term 'san francisco' Was Substituted With 'new york city', vancouver, and toronto.  "
   ]
  },
  {
   "cell_type": "markdown",
   "metadata": {},
   "source": [
    "#### In The Case Of 'new york city', the words 'new', 'york', 'city', and 'nyc' Were Also Filtered To Not Distort The n-gram Analysis. As well, the in"
   ]
  },
  {
   "cell_type": "markdown",
   "metadata": {},
   "source": [
    "#### The Code Block Mentioned Below Was Then Used To Convert The Tweets To A List"
   ]
  },
  {
   "cell_type": "code",
   "execution_count": 19,
   "metadata": {},
   "outputs": [
    {
     "name": "stderr",
     "output_type": "stream",
     "text": [
      "Rate limit reached. Sleeping for: 818\n",
      "Rate limit reached. Sleeping for: 816\n"
     ]
    }
   ],
   "source": [
    "tweets = []\n",
    "time = []\n",
    "for i in tweets_list:\n",
    "    tweets.append(i.full_text)\n",
    "    time.append(i.created_at)"
   ]
  },
  {
   "cell_type": "markdown",
   "metadata": {},
   "source": [
    "#### From There The Data Was Converted From A List To A Dataframe Using The Pandas Library"
   ]
  },
  {
   "cell_type": "code",
   "execution_count": 20,
   "metadata": {},
   "outputs": [],
   "source": [
    "dfsf1 = pd.DataFrame({'tweets':tweets, 'time':time})"
   ]
  },
  {
   "cell_type": "code",
   "execution_count": 21,
   "metadata": {},
   "outputs": [
    {
     "data": {
      "text/html": [
       "<div>\n",
       "<style scoped>\n",
       "    .dataframe tbody tr th:only-of-type {\n",
       "        vertical-align: middle;\n",
       "    }\n",
       "\n",
       "    .dataframe tbody tr th {\n",
       "        vertical-align: top;\n",
       "    }\n",
       "\n",
       "    .dataframe thead th {\n",
       "        text-align: right;\n",
       "    }\n",
       "</style>\n",
       "<table border=\"1\" class=\"dataframe\">\n",
       "  <thead>\n",
       "    <tr style=\"text-align: right;\">\n",
       "      <th></th>\n",
       "      <th>tweets</th>\n",
       "      <th>time</th>\n",
       "    </tr>\n",
       "  </thead>\n",
       "  <tbody>\n",
       "    <tr>\n",
       "      <th>0</th>\n",
       "      <td>Santa Clara Water Board Recommend Mandatory 15...</td>\n",
       "      <td>2021-06-09 23:59:59</td>\n",
       "    </tr>\n",
       "    <tr>\n",
       "      <th>1</th>\n",
       "      <td>@strokeitandsee can't get over seeing someone ...</td>\n",
       "      <td>2021-06-09 23:59:59</td>\n",
       "    </tr>\n",
       "    <tr>\n",
       "      <th>2</th>\n",
       "      <td>Seattle, Portland, San Francisco, LA, anything...</td>\n",
       "      <td>2021-06-09 23:59:45</td>\n",
       "    </tr>\n",
       "    <tr>\n",
       "      <th>3</th>\n",
       "      <td>This is consistent with research that showed a...</td>\n",
       "      <td>2021-06-09 23:59:19</td>\n",
       "    </tr>\n",
       "    <tr>\n",
       "      <th>4</th>\n",
       "      <td>Check out BKF’s very own Ryan Bernal discussin...</td>\n",
       "      <td>2021-06-09 23:58:12</td>\n",
       "    </tr>\n",
       "    <tr>\n",
       "      <th>...</th>\n",
       "      <td>...</td>\n",
       "      <td>...</td>\n",
       "    </tr>\n",
       "    <tr>\n",
       "      <th>4410</th>\n",
       "      <td>Mystery &amp;amp; romance in 1958 San Francisco - ...</td>\n",
       "      <td>2021-06-09 00:00:09</td>\n",
       "    </tr>\n",
       "    <tr>\n",
       "      <th>4411</th>\n",
       "      <td>June is #PrideMonth 🌈 \\n \\nHere's what's going...</td>\n",
       "      <td>2021-06-09 00:00:05</td>\n",
       "    </tr>\n",
       "    <tr>\n",
       "      <th>4412</th>\n",
       "      <td>Save the date: On Tuesday, June 22, San Franci...</td>\n",
       "      <td>2021-06-09 00:00:04</td>\n",
       "    </tr>\n",
       "    <tr>\n",
       "      <th>4413</th>\n",
       "      <td>Current temps around the US right now: Seattle...</td>\n",
       "      <td>2021-06-09 00:00:03</td>\n",
       "    </tr>\n",
       "    <tr>\n",
       "      <th>4414</th>\n",
       "      <td>San Francisco Bay as seen from The Lawrence Ha...</td>\n",
       "      <td>2021-06-09 00:00:02</td>\n",
       "    </tr>\n",
       "  </tbody>\n",
       "</table>\n",
       "<p>4415 rows × 2 columns</p>\n",
       "</div>"
      ],
      "text/plain": [
       "                                                 tweets                time\n",
       "0     Santa Clara Water Board Recommend Mandatory 15... 2021-06-09 23:59:59\n",
       "1     @strokeitandsee can't get over seeing someone ... 2021-06-09 23:59:59\n",
       "2     Seattle, Portland, San Francisco, LA, anything... 2021-06-09 23:59:45\n",
       "3     This is consistent with research that showed a... 2021-06-09 23:59:19\n",
       "4     Check out BKF’s very own Ryan Bernal discussin... 2021-06-09 23:58:12\n",
       "...                                                 ...                 ...\n",
       "4410  Mystery &amp; romance in 1958 San Francisco - ... 2021-06-09 00:00:09\n",
       "4411  June is #PrideMonth 🌈 \\n \\nHere's what's going... 2021-06-09 00:00:05\n",
       "4412  Save the date: On Tuesday, June 22, San Franci... 2021-06-09 00:00:04\n",
       "4413  Current temps around the US right now: Seattle... 2021-06-09 00:00:03\n",
       "4414  San Francisco Bay as seen from The Lawrence Ha... 2021-06-09 00:00:02\n",
       "\n",
       "[4415 rows x 2 columns]"
      ]
     },
     "execution_count": 21,
     "metadata": {},
     "output_type": "execute_result"
    }
   ],
   "source": [
    "dfsf1"
   ]
  },
  {
   "cell_type": "markdown",
   "metadata": {},
   "source": [
    "#### From Here The Data Was Then Exported To A CSV File. This Was Done So That The Data Could Be Saved And ReImported Into Python To Be Worked On For Later. "
   ]
  },
  {
   "cell_type": "code",
   "execution_count": 22,
   "metadata": {},
   "outputs": [],
   "source": [
    "dfsf1.to_csv('output4151.csv', mode='a', header=False)"
   ]
  },
  {
   "cell_type": "code",
   "execution_count": 23,
   "metadata": {},
   "outputs": [
    {
     "name": "stdout",
     "output_type": "stream",
     "text": [
      "<class 'pandas.core.frame.DataFrame'>\n",
      "RangeIndex: 4415 entries, 0 to 4414\n",
      "Data columns (total 2 columns):\n",
      " #   Column  Non-Null Count  Dtype         \n",
      "---  ------  --------------  -----         \n",
      " 0   tweets  4415 non-null   object        \n",
      " 1   time    4415 non-null   datetime64[ns]\n",
      "dtypes: datetime64[ns](1), object(1)\n",
      "memory usage: 69.1+ KB\n"
     ]
    }
   ],
   "source": [
    "dfsf1.info()"
   ]
  },
  {
   "cell_type": "code",
   "execution_count": 24,
   "metadata": {},
   "outputs": [],
   "source": [
    "dfsf1.to_csv('output4151.csv', index=False)"
   ]
  },
  {
   "cell_type": "code",
   "execution_count": null,
   "metadata": {},
   "outputs": [],
   "source": []
  }
 ],
 "metadata": {
  "kernelspec": {
   "display_name": "Python 3",
   "language": "python",
   "name": "python3"
  },
  "language_info": {
   "codemirror_mode": {
    "name": "ipython",
    "version": 3
   },
   "file_extension": ".py",
   "mimetype": "text/x-python",
   "name": "python",
   "nbconvert_exporter": "python",
   "pygments_lexer": "ipython3",
   "version": "3.7.6"
  }
 },
 "nbformat": 4,
 "nbformat_minor": 4
}
